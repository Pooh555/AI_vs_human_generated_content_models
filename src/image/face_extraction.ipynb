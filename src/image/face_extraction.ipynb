{
 "cells": [
  {
   "cell_type": "markdown",
   "metadata": {},
   "source": [
    "# Extracting Human Faces From Images"
   ]
  },
  {
   "cell_type": "markdown",
   "metadata": {},
   "source": [
    "## Imports"
   ]
  },
  {
   "cell_type": "code",
   "execution_count": 2,
   "metadata": {},
   "outputs": [
    {
     "name": "stderr",
     "output_type": "stream",
     "text": [
      "/home/pooh/miniconda3/envs/deep_learning/lib/python3.10/site-packages/tqdm/auto.py:21: TqdmWarning: IProgress not found. Please update jupyter and ipywidgets. See https://ipywidgets.readthedocs.io/en/stable/user_install.html\n",
      "  from .autonotebook import tqdm as notebook_tqdm\n"
     ]
    }
   ],
   "source": [
    "import cv2 \n",
    "import numpy as np \n",
    "import os\n",
    "\n",
    "from huggingface_hub import hf_hub_download\n",
    "from PIL import Image\n",
    "from supervision import Detections\n",
    "from ultralytics.engine.results import Results\n",
    "from ultralytics import YOLO"
   ]
  },
  {
   "cell_type": "markdown",
   "metadata": {},
   "source": [
    "## Use Model"
   ]
  },
  {
   "cell_type": "code",
   "execution_count": 3,
   "metadata": {},
   "outputs": [],
   "source": [
    "model_path = hf_hub_download(repo_id=\"arnabdhar/YOLOv8-Face-Detection\", filename=\"model.pt\")\n",
    "model = YOLO(model_path)"
   ]
  },
  {
   "cell_type": "markdown",
   "metadata": {},
   "source": [
    "## Test"
   ]
  },
  {
   "cell_type": "code",
   "execution_count": 4,
   "metadata": {},
   "outputs": [],
   "source": [
    "image_path = \"/home/pooh/Downloads/IMG_20250418_233052.jpg\"\n",
    "original_image_bgr = cv2.imread(image_path)"
   ]
  },
  {
   "cell_type": "code",
   "execution_count": null,
   "metadata": {},
   "outputs": [
    {
     "name": "stdout",
     "output_type": "stream",
     "text": [
      "Image loaded successfully: /home/pooh/Downloads/IMG_20250418_233052.jpg\n",
      "\n",
      "0: 640x384 1 FACE, 29.2ms\n",
      "Speed: 2.2ms preprocess, 29.2ms inference, 75.2ms postprocess per image at shape (1, 3, 640, 384)\n",
      "Found 1 face(s). Cropping and saving...\n",
      "Saved cropped face 0 to: cropped_faces/IMG_20250418_233052_face_0.jpg\n"
     ]
    }
   ],
   "source": [
    "if original_image_bgr is None:\n",
    "    print(f\"Error: Could not load image from path: {image_path}\")\n",
    "    exit() \n",
    "else:\n",
    "    print(f\"Image loaded successfully: {image_path}\")\n",
    "\n",
    "    output: list[Results] = model(original_image_bgr) \n",
    "    results_ultralytics: Results = output[0]\n",
    "    bboxes_xyxy = results_ultralytics.boxes.xyxy.cpu().numpy()\n",
    "\n",
    "    output_crop_dir = \"cropped_faces\"\n",
    "    os.makedirs(output_crop_dir, exist_ok=True) \n",
    "\n",
    "    base_filename = os.path.splitext(os.path.basename(image_path))[0]\n",
    "\n",
    "    print(f\"Found {len(bboxes_xyxy)} face(s). Cropping and saving...\")\n",
    "\n",
    "    if len(bboxes_xyxy) > 0:\n",
    "        for i, bbox in enumerate(bboxes_xyxy):\n",
    "            x_min, y_min, x_max, y_max = map(int, bbox[:4])\n",
    "\n",
    "            padding = 0 \n",
    "            h, w = original_image_bgr.shape[:2]\n",
    "            x_min = max(0, x_min - padding)\n",
    "            y_min = max(0, y_min - padding)\n",
    "            x_max = min(w, x_max + padding)\n",
    "            y_max = min(h, y_max + padding)\n",
    "\n",
    "            cropped_face_bgr = original_image_bgr[y_min:y_max, x_min:x_max]\n",
    "\n",
    "            if cropped_face_bgr.shape[0] > 0 and cropped_face_bgr.shape[1] > 0:\n",
    "                cropped_face_rgb = cv2.cvtColor(cropped_face_bgr, cv2.COLOR_BGR2RGB)\n",
    "                cropped_face_pil = Image.fromarray(cropped_face_rgb)\n",
    "                output_crop_path = os.path.join(output_crop_dir, f\"{base_filename}_face_{i}.jpg\")\n",
    "\n",
    "                cropped_face_pil.save(output_crop_path)\n",
    "                print(f\"Saved cropped face {i} to: {output_crop_path}\")\n",
    "            else:\n",
    "                print(f\"Warning: Skipped saving face {i} due to invalid dimensions after cropping.\")\n",
    "    else:\n",
    "        print(\"No faces were detected in the image.\")"
   ]
  }
 ],
 "metadata": {
  "kernelspec": {
   "display_name": "deep_learning",
   "language": "python",
   "name": "python3"
  },
  "language_info": {
   "codemirror_mode": {
    "name": "ipython",
    "version": 3
   },
   "file_extension": ".py",
   "mimetype": "text/x-python",
   "name": "python",
   "nbconvert_exporter": "python",
   "pygments_lexer": "ipython3",
   "version": "3.10.9"
  }
 },
 "nbformat": 4,
 "nbformat_minor": 2
}
