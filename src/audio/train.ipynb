{
 "cells": [
  {
   "cell_type": "markdown",
   "id": "aadee827",
   "metadata": {},
   "source": [
    "# Train The Model"
   ]
  },
  {
   "cell_type": "markdown",
   "id": "e2eae4d5",
   "metadata": {},
   "source": [
    "## Imports"
   ]
  },
  {
   "cell_type": "code",
   "execution_count": null,
   "id": "8b726fcc",
   "metadata": {},
   "outputs": [],
   "source": [
    "import IPython.display as ipd\n",
    "import librosa # Compatible with python 3.10\n",
    "import matplotlib.pyplot as plt\n",
    "import numpy as np\n",
    "import os\n",
    "import pandas as pd\n",
    "import random"
   ]
  },
  {
   "cell_type": "markdown",
   "id": "14ae8e4f",
   "metadata": {},
   "source": [
    "## Constants"
   ]
  },
  {
   "cell_type": "markdown",
   "id": "e563732f",
   "metadata": {},
   "source": [
    "#### Directories"
   ]
  },
  {
   "cell_type": "code",
   "execution_count": null,
   "id": "0a6e5405",
   "metadata": {},
   "outputs": [],
   "source": [
    "# Assign paths\n",
    "base_dir = \"dataset\"\n",
    "\n",
    "# Use for-norm dataset\n",
    "train_dir = os.path.join(base_dir, \"for-norm\", \"for-norm\", \"training\")\n",
    "test_dir = os.path.join(base_dir, \"for-norm\", \"for-norm\", \"testing\")\n",
    "val_dir = os.path.join(base_dir, \"for-norm\", \"for-norm\", \"validation\")\n",
    "\n",
    "# Classified directories\n",
    "train_dir_fake = os.path.join(train_dir, \"fake\")\n",
    "train_dir_real = os.path.join(train_dir, \"real\")\n",
    "test_dir_fake = os.path.join(test_dir, \"fake\")\n",
    "test_dir_real = os.path.join(test_dir, \"real\")\n",
    "val_dir_fake = os.path.join(val_dir, \"fake\")\n",
    "val_dir_real = os.path.join(val_dir, \"real\")"
   ]
  },
  {
   "cell_type": "code",
   "execution_count": null,
   "id": "9a108b5a",
   "metadata": {},
   "outputs": [],
   "source": [
    "# Check for mistakes\n",
    "print(\"Base directory:\", base_dir)\n",
    "print()\n",
    "print(\"Train directory:\", train_dir)\n",
    "print(\"Test directory:\", test_dir)\n",
    "print(\"Val directory:\", val_dir)\n",
    "print()\n",
    "print(\"Train (fake) directory:\", train_dir_fake)\n",
    "print(\"Train (real) directory:\", train_dir_real)\n",
    "print(\"Test (fake) directory:\", test_dir_fake)\n",
    "print(\"Test (real) directory:\", test_dir_real)\n",
    "print(\"Val (fake) directory:\", val_dir_fake)\n",
    "print(\"Val (real) directory:\", val_dir_real)"
   ]
  },
  {
   "cell_type": "markdown",
   "id": "3be882e7",
   "metadata": {},
   "source": [
    "## Obtain Data"
   ]
  },
  {
   "cell_type": "code",
   "execution_count": null,
   "id": "e4cc98ed",
   "metadata": {},
   "outputs": [],
   "source": [
    "# Obtain waveform (.wav) audio files\n",
    "train_fake_audio_path = [os.path.join(train_dir_fake, file) for file in os.listdir(train_dir_fake) if file.endswith('.wav')]\n",
    "train_real_audio_path = [os.path.join(train_dir_real, file) for file in os.listdir(train_dir_real) if file.endswith('.wav')]\n",
    "\n",
    "validation_fake_audio_path = [os.path.join(val_dir_fake, file) for file in os.listdir(val_dir_fake) if file.endswith('.wav')]\n",
    "validation_real_audio_path = [os.path.join(val_dir_real, file) for file in os.listdir(val_dir_real) if file.endswith('.wav')]\n",
    "\n",
    "test_fake_audio_path = [os.path.join(test_dir_fake, file) for file in os.listdir(test_dir_fake) if file.endswith('.wav')]\n",
    "test_real_audio_path = [os.path.join(test_dir_real, file) for file in os.listdir(test_dir_real) if file.endswith('.wav')]"
   ]
  },
  {
   "cell_type": "code",
   "execution_count": null,
   "id": "ec0db9bc",
   "metadata": {},
   "outputs": [],
   "source": [
    "# Display a random real training sample audio\n",
    "random_real_training_audio_file = train_real_audio_path[random.randint(0, 333)]\n",
    "ipd.Audio(random_real_training_audio_file)"
   ]
  },
  {
   "cell_type": "code",
   "execution_count": null,
   "id": "29456f5e",
   "metadata": {},
   "outputs": [],
   "source": [
    "# Display a random fake training sample audio\n",
    "random_fake_training_audio_file = train_fake_audio_path[random.randint(0, 333)]\n",
    "ipd.Audio(random_fake_training_audio_file)\n"
   ]
  },
  {
   "cell_type": "markdown",
   "id": "0957f3b6",
   "metadata": {},
   "source": [
    "## Data Preprocessing"
   ]
  },
  {
   "cell_type": "code",
   "execution_count": null,
   "id": "9da1b3bd",
   "metadata": {},
   "outputs": [],
   "source": [
    "# Training dataset\n",
    "class CustomTrainingAudioDataset(Dataset):\n",
    "    def __init__(self, labels, base_dir, transform=None):\n",
    "        self.labels = labels # Audio labels\n",
    "        self.base_dir = base_dir # Base audio directory\n",
    "        self.transform = transform # Modify audio features\n",
    "    \n",
    "    def __len__(self):\n",
    "        return len(self.labels) # Number of audio samples\n",
    "    \n",
    "    def __getitem__(self, index):\n",
    "        audio_sample_path = os.path.join(self.image_directory, self.image_labels.iloc[index, 1])\n",
    "        audio_sample = ipd.Audio(random_real_training_audio_file)\n",
    "        label = self.image_labels.iloc[index, 2]\n",
    "\n",
    "        if self.transform:\n",
    "            audio_sample = self.transform(audio_sample)\n",
    "        \n",
    "        return audio_sample, label # An image and a label at the corresponding index"
   ]
  }
 ],
 "metadata": {
  "kernelspec": {
   "display_name": "Python 3",
   "language": "python",
   "name": "python3"
  },
  "language_info": {
   "name": "python",
   "version": "3.13.2"
  }
 },
 "nbformat": 4,
 "nbformat_minor": 5
}
