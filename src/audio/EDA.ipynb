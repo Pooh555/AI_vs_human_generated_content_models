{
 "cells": [
  {
   "cell_type": "markdown",
   "id": "6b530def",
   "metadata": {},
   "source": [
    "# Exploratory Data Analysis"
   ]
  },
  {
   "cell_type": "markdown",
   "id": "e1086cb4",
   "metadata": {},
   "source": [
    "## Imports"
   ]
  },
  {
   "cell_type": "code",
   "execution_count": 1,
   "id": "a4d5057d",
   "metadata": {},
   "outputs": [],
   "source": [
    "import librosa\n",
    "import pandas as pd"
   ]
  },
  {
   "cell_type": "markdown",
   "id": "12951d71",
   "metadata": {},
   "source": [
    "## Constants"
   ]
  },
  {
   "cell_type": "markdown",
   "id": "3d2fafca",
   "metadata": {},
   "source": [
    "#### Directories"
   ]
  },
  {
   "cell_type": "code",
   "execution_count": 2,
   "id": "135d4dda",
   "metadata": {},
   "outputs": [],
   "source": [
    "# Assign paths\n",
    "base_dir = \"dataset\"\n",
    "\n",
    "# Use for-norm dataset\n",
    "train_dir = base_dir + \"/for-norm/for-norm/training\"\n",
    "test_dir = base_dir + \"/for-norm/for-norm/testing\"\n",
    "val_dir = base_dir + \"/for-norm/for-norm/validation\"\n",
    "\n",
    "# Classified directories\n",
    "train_dir_fake = train_dir + \"/fake\"\n",
    "train_dir_real = train_dir + \"/real\"\n",
    "test_dir_fake = test_dir + \"/fake\"\n",
    "test_dir_real = test_dir + \"/real\"\n",
    "val_dir_fake = val_dir + \"/fake\"\n",
    "val_dir_real = val_dir + \"/real\""
   ]
  },
  {
   "cell_type": "code",
   "execution_count": 6,
   "id": "1e0061e8",
   "metadata": {},
   "outputs": [
    {
     "name": "stdout",
     "output_type": "stream",
     "text": [
      "Base directory: dataset\n",
      "\n",
      "Train directory: dataset/for-norm/for-norm/training\n",
      "Test directory: dataset/for-norm/for-norm/testing\n",
      "Val directory: dataset/for-norm/for-norm/validation\n",
      "\n",
      "Train (fake) directory: dataset/for-norm/for-norm/training/fake\n",
      "Train (real) directory: dataset/for-norm/for-norm/training/real\n",
      "Test (fake) directory: dataset/for-norm/for-norm/testing/fake\n",
      "Test (real) directory: dataset/for-norm/for-norm/testing/real\n",
      "Val (fake) directory: dataset/for-norm/for-norm/validation/fake\n",
      "Val (real) directory: dataset/for-norm/for-norm/validation/real\n"
     ]
    }
   ],
   "source": [
    "# Check for mistakes\n",
    "print(\"Base directory:\", base_dir)\n",
    "print()\n",
    "print(\"Train directory:\", train_dir)\n",
    "print(\"Test directory:\", test_dir)\n",
    "print(\"Val directory:\", val_dir)\n",
    "print()\n",
    "print(\"Train (fake) directory:\", train_dir_fake)\n",
    "print(\"Train (real) directory:\", train_dir_real)\n",
    "print(\"Test (fake) directory:\", test_dir_fake)\n",
    "print(\"Test (real) directory:\", test_dir_real)\n",
    "print(\"Val (fake) directory:\", val_dir_fake)\n",
    "print(\"Val (real) directory:\", val_dir_real)"
   ]
  },
  {
   "cell_type": "markdown",
   "id": "9f62b5f6",
   "metadata": {},
   "source": [
    "## Get Data"
   ]
  },
  {
   "cell_type": "code",
   "execution_count": 7,
   "id": "760a1b73",
   "metadata": {},
   "outputs": [
    {
     "ename": "AttributeError",
     "evalue": "module 'pandas' has no attribute 'read'",
     "output_type": "error",
     "traceback": [
      "\u001b[31m---------------------------------------------------------------------------\u001b[39m",
      "\u001b[31mAttributeError\u001b[39m                            Traceback (most recent call last)",
      "\u001b[36mCell\u001b[39m\u001b[36m \u001b[39m\u001b[32mIn[7]\u001b[39m\u001b[32m, line 1\u001b[39m\n\u001b[32m----> \u001b[39m\u001b[32m1\u001b[39m df = \u001b[43mpd\u001b[49m\u001b[43m.\u001b[49m\u001b[43mread\u001b[49m\n",
      "\u001b[31mAttributeError\u001b[39m: module 'pandas' has no attribute 'read'"
     ]
    }
   ],
   "source": [
    "df = pd.read"
   ]
  }
 ],
 "metadata": {
  "kernelspec": {
   "display_name": "Python 3",
   "language": "python",
   "name": "python3"
  },
  "language_info": {
   "codemirror_mode": {
    "name": "ipython",
    "version": 3
   },
   "file_extension": ".py",
   "mimetype": "text/x-python",
   "name": "python",
   "nbconvert_exporter": "python",
   "pygments_lexer": "ipython3",
   "version": "3.13.2"
  }
 },
 "nbformat": 4,
 "nbformat_minor": 5
}
