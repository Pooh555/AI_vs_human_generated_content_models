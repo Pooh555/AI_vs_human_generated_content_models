{
 "cells": [
  {
   "cell_type": "code",
   "execution_count": 1,
   "metadata": {},
   "outputs": [],
   "source": [
    "import torch"
   ]
  },
  {
   "cell_type": "code",
   "execution_count": 2,
   "metadata": {},
   "outputs": [],
   "source": [
    "def test_CUDA():\n",
    "    print(\"Torch CUDA version:\",torch.version.cuda)\n",
    "    print(\"CUDA GPU avalibility:\", torch.cuda.is_available())\n",
    "\n",
    "    if (torch.cuda.is_available()):\n",
    "        print(\"CUDA devices number:\", torch.cuda.device_count())\n",
    "        print(\"Current CUDA device:\", torch.cuda.current_device())\n",
    "        print(\"Initial CUDA device:\", torch.cuda.device(0))\n",
    "        print(\"CUDA device:\", torch.cuda.device)\n",
    "        print(\"CUDA device's name:\", torch.cuda.get_device_name(0))\n",
    "    else:\n",
    "        print(\"No CUDA GPU detected.\")"
   ]
  },
  {
   "cell_type": "code",
   "execution_count": 3,
   "metadata": {},
   "outputs": [
    {
     "name": "stdout",
     "output_type": "stream",
     "text": [
      "Torch CUDA version: 11.8\n",
      "CUDA GPU avalibility: False\n",
      "No CUDA GPU detected.\n"
     ]
    }
   ],
   "source": [
    "test_CUDA()"
   ]
  }
 ],
 "metadata": {
  "kernelspec": {
   "display_name": "image_classification",
   "language": "python",
   "name": "python3"
  },
  "language_info": {
   "codemirror_mode": {
    "name": "ipython",
    "version": 3
   },
   "file_extension": ".py",
   "mimetype": "text/x-python",
   "name": "python",
   "nbconvert_exporter": "python",
   "pygments_lexer": "ipython3",
   "version": "3.11.6"
  }
 },
 "nbformat": 4,
 "nbformat_minor": 2
}
