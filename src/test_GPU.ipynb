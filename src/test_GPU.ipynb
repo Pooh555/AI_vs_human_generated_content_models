{
 "cells": [
  {
   "cell_type": "code",
   "execution_count": 1,
   "metadata": {},
   "outputs": [],
   "source": [
    "import torch"
   ]
  },
  {
   "cell_type": "code",
   "execution_count": 2,
   "metadata": {},
   "outputs": [],
   "source": [
    "def test_CUDA():\n",
    "    print(\"Torch CUDA version:\",torch.version.cuda)\n",
    "    print(\"CUDA GPU avalibility:\", torch.cuda.is_available())\n",
    "\n",
    "    if (torch.cuda.is_available()):\n",
    "        print(\"CUDA devices number:\", torch.cuda.device_count())\n",
    "        print(\"Current CUDA device:\", torch.cuda.current_device())\n",
    "        print(\"Initial CUDA device:\", torch.cuda.device(0))\n",
    "        print(\"CUDA device:\", torch.cuda.device)\n",
    "        print(\"CUDA device's name:\", torch.cuda.get_device_name(0))\n",
    "    else:\n",
    "        print(\"No CUDA GPU detected.\")"
   ]
  },
  {
   "cell_type": "code",
   "execution_count": 3,
   "metadata": {},
   "outputs": [
    {
     "name": "stdout",
     "output_type": "stream",
     "text": [
      "Torch CUDA version: 12.1\n",
      "CUDA GPU avalibility: True\n",
      "CUDA devices number: 1\n",
      "Current CUDA device: 0\n",
      "Initial CUDA device: <torch.cuda.device object at 0x79f6d82230a0>\n",
      "CUDA device: <class 'torch.cuda.device'>\n",
      "CUDA device's name: NVIDIA GeForce RTX 4060 Ti\n"
     ]
    }
   ],
   "source": [
    "test_CUDA()"
   ]
  },
  {
   "cell_type": "code",
   "execution_count": 4,
   "metadata": {},
   "outputs": [
    {
     "name": "stderr",
     "output_type": "stream",
     "text": [
      "2025-04-05 10:56:54.001541: I tensorflow/core/util/port.cc:153] oneDNN custom operations are on. You may see slightly different numerical results due to floating-point round-off errors from different computation orders. To turn them off, set the environment variable `TF_ENABLE_ONEDNN_OPTS=0`.\n",
      "2025-04-05 10:56:54.021843: I tensorflow/core/platform/cpu_feature_guard.cc:210] This TensorFlow binary is optimized to use available CPU instructions in performance-critical operations.\n",
      "To enable the following instructions: SSE4.1 SSE4.2 AVX AVX2 AVX512F AVX512_VNNI FMA, in other operations, rebuild TensorFlow with the appropriate compiler flags.\n"
     ]
    }
   ],
   "source": [
    "import tensorflow as tf"
   ]
  },
  {
   "cell_type": "code",
   "execution_count": 5,
   "metadata": {},
   "outputs": [
    {
     "name": "stdout",
     "output_type": "stream",
     "text": [
      "WARNING:tensorflow:From /tmp/ipykernel_15520/2398065533.py:1: is_gpu_available (from tensorflow.python.framework.test_util) is deprecated and will be removed in a future version.\n",
      "Instructions for updating:\n",
      "Use `tf.config.list_physical_devices('GPU')` instead.\n"
     ]
    }
   ],
   "source": [
    "gpu_available = tf.test.is_gpu_available()"
   ]
  },
  {
   "cell_type": "code",
   "execution_count": 6,
   "metadata": {},
   "outputs": [
    {
     "name": "stdout",
     "output_type": "stream",
     "text": [
      "False\n"
     ]
    }
   ],
   "source": [
    "print(gpu_available)"
   ]
  }
 ],
 "metadata": {
  "kernelspec": {
   "display_name": "audio_classification",
   "language": "python",
   "name": "python3"
  },
  "language_info": {
   "codemirror_mode": {
    "name": "ipython",
    "version": 3
   },
   "file_extension": ".py",
   "mimetype": "text/x-python",
   "name": "python",
   "nbconvert_exporter": "python",
   "pygments_lexer": "ipython3",
   "version": "3.10.16"
  }
 },
 "nbformat": 4,
 "nbformat_minor": 2
}
